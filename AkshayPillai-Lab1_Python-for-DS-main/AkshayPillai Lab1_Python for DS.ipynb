{
 "cells": [
  {
   "cell_type": "code",
   "execution_count": null,
   "id": "6246f749",
   "metadata": {},
   "outputs": [],
   "source": [
    "# Load required libraries\n",
    "import mysql.connector\n",
    "import pandas as pd"
   ]
  },
  {
   "cell_type": "code",
   "execution_count": null,
   "id": "806362f7",
   "metadata": {},
   "outputs": [],
   "source": [
    "# Lets connect to Mysql server and choose the database('ecommerce') while connecting to the server\n",
    "connection = mysql.connector.connect(host =\"localhost\",\n",
    "                                    user =\"root\",\n",
    "                                    passwd =\"Akshay7890$\")\n",
    "# creating a cursor object\n",
    "cursorObject = connection.cursor()"
   ]
  },
  {
   "cell_type": "code",
   "execution_count": null,
   "id": "10b81d29",
   "metadata": {},
   "outputs": [],
   "source": [
    "## Lets connect to Mysql server and choose the database('ecommerce')\n",
    "connection = mysql.connector.connect(host =\"localhost\",\n",
    "                                    user =\"root\",\n",
    "                                    passwd =\"Akshay7890$\")\n",
    "## creating a cursor object\n",
    "cursorObject = connection.cursor()\n",
    "\n",
    "## creating database\n",
    "cursorObject.execute(\"CREATE DATABASE ecommerce\")\n",
    "\n",
    "## closing the connection after creating a database('ecommerce')\n",
    "connection.close()"
   ]
  },
  {
   "cell_type": "code",
   "execution_count": null,
   "id": "43437cc6",
   "metadata": {},
   "outputs": [],
   "source": [
    "## Again connect to the Mysql server and while connecting Choose 'ECOMMRECE' database\n",
    "\n",
    "connection = mysql.connector.connect(host =\"localhost\",\n",
    "                                     user =\"root\",\n",
    "                                     passwd =\"Akshay7890$\",\n",
    "                                     database = 'ECOMMERCE')\n",
    " \n",
    "## creating a cursor object\n",
    "cursorObject = connection.cursor()"
   ]
  },
  {
   "cell_type": "code",
   "execution_count": null,
   "id": "0c08ac18",
   "metadata": {},
   "outputs": [],
   "source": [
    "## Creating Tables\n",
    "\n",
    "table_creation_query = \"\"\"create table Supplier(SUPP_ID int primary key , SUPP_NAME varchar(50), SUPP_CITY varchar(50), SUPP_PHONE varchar(10));\n",
    "\n",
    "                          create table Customer(CUS_ID INT NOT NULL, CUS_NAME VARCHAR(20) NULL DEFAULT NULL, CUS_PHONE VARCHAR(10), CUS_CITY VARCHAR(30), CUS_GENDER CHAR, PRIMARY KEY(CUS_ID));\n",
    "\n",
    "                          create table Category(CAT_ID INT NOT NULL, CAT_NAME VARCHAR(20) NULL DEFAULT NULL, PRIMARY KEY(CAT_ID));\n",
    "\n",
    "                          create table Product(PRO_ID INT NOT NULL, PRO_NAME VARCHAR(20) NULL DEFAULT NULL, PRO_DESC VARCHAR(60) NULL DEFAULT NULL, CAT_ID INT NOT NULL, PRIMARY KEY(PRO_ID), FOREIGN KEY(CAT_ID) REFERENCES Category (CAT_ID));\n",
    "\n",
    "                          create table Product_Details(PROD_ID INT NOT NULL, PRO_ID INT NOT NULL, SUPP_ID INT NOT NULL, PROD_PRICE INT NOT NULL, PRIMARY KEY(PROD_ID),FOREIGN KEY(PRO_ID) REFERENCES Product(PRO_ID),FOREIGN KEY(SUPP_ID) REFERENCES Supplier(SUPP_ID));\n",
    "                          \n",
    "                          create table Orders(ORD_ID INT NOT NULL, ORD_AMOUNT INT NOT NULL, ORD_DATE DATE, CUS_ID INT NOT NULL, PROD_ID INT NOT NULL,PRIMARY KEY (ORD_ID),FOREIGN KEY (CUS_ID) REFERENCES Customer(CUS_ID),FOREIGN KEY (PROD_ID) REFERENCES Product_Details(PROD_ID));\n",
    "                          \n",
    "                          create table Rating(RAT_ID INT NOT NULL, CUS_ID INT NOT NULL, SUPP_ID INT NOT NULL, RAT_RATSTARS INT NOT NULL,PRIMARY KEY(RAT_ID),FOREIGN KEY (SUPP_ID) REFERENCES Supplier(SUPP_ID),FOREIGN KEY (CUS_ID) REFERENCES Customer(CUS_ID))\"\"\"\n",
    "                  \n",
    "# Executing the query\n",
    "cursorObject.execute(table_creation_query)"
   ]
  },
  {
   "cell_type": "code",
   "execution_count": null,
   "id": "06fb7ff4",
   "metadata": {},
   "outputs": [],
   "source": [
    "## After creating tables close the connection and reconnect to the server for inserting the data \n",
    "\n",
    "## closing the connection \n",
    "connection.close()\n",
    "## Lets make a connection to Mysql server and choose database 'ecommerce'\n",
    "connection = mysql.connector.connect(host =\"localhost\",\n",
    "                                     user =\"root\",\n",
    "                                     passwd =\"Akshay7890$\",\n",
    "                                     database='ecommerce')\n",
    "## creating a cursor object\n",
    "cursorObject = connection.cursor()"
   ]
  },
  {
   "cell_type": "code",
   "execution_count": null,
   "id": "e4f0dda6",
   "metadata": {},
   "outputs": [],
   "source": [
    "## Inserting data to the tables\n",
    "\n",
    "## Inserting data into \"Supplier\"\n",
    "\n",
    "insert_Supplier = \"\"\"INSERT INTO Supplier (SUPP_ID , SUPP_NAME, SUPP_CITY, SUPP_PHONE) VALUES (%s, %s, %s, %s)\"\"\" \n",
    "\n",
    "val = [(1,'Rajesh Retails', 'Delhi', 1234567890),\n",
    "       (2,'Appario Ltd.', 'Mumbai', 2589631470),\n",
    "       (3,'Knome products', 'Bangalore', 9785462315),\n",
    "       (4,'Bansal Retails', 'Kochi', 8975463285),\n",
    "       (5,'Mittal Ltd.', 'Lucknow', 7898456532)]\n",
    "   \n",
    "cursorObject.executemany(insert_Supplier, val)\n",
    "connection.commit()"
   ]
  },
  {
   "cell_type": "code",
   "execution_count": null,
   "id": "d9ac1478",
   "metadata": {},
   "outputs": [],
   "source": [
    "## Inserting data into \"Customer\"\n",
    "\n",
    "insert_Customer = \"\"\"INSERT INTO Customer (CUS_ID , CUS_NAME, CUS_PHONE, CUS_CITY, CUS_GENDER) VALUES (%s, %s, %s, %s, %s)\"\"\" \n",
    "\n",
    "val = [(1,'AAKASH', 9999999999, 'DELHI', 'M'),\n",
    "       (2,'AMAN', 9785463215, 'NOIDA', 'M'),\n",
    "       (3,'NEHA', 9999999998, 'MUMBAI', 'F'),\n",
    "       (4,'MEGHA', 9994562399, 'KOLKATA', 'F'),\n",
    "       (5,'PULKIT', 7895999999, 'LUCKNOW', 'M')]\n",
    "   \n",
    "cursorObject.executemany(insert_Customer, val)\n",
    "connection.commit()"
   ]
  },
  {
   "cell_type": "code",
   "execution_count": null,
   "id": "1104caed",
   "metadata": {},
   "outputs": [],
   "source": [
    "## Inserting data into \"Category\"\n",
    "\n",
    "insert_Category = \"\"\"INSERT INTO Category (CAT_ID, CAT_NAME) VALUES (%s, %s)\"\"\" \n",
    "\n",
    "val = [(1,'BOOKS'),\n",
    "       (2,'GAMES'),\n",
    "       (3,'GROCERIES'),\n",
    "       (4,'ELECTRONICS'),\n",
    "       (5,'CLOTHES')]\n",
    "   \n",
    "cursorObject.executemany(insert_Category, val)\n",
    "connection.commit()"
   ]
  },
  {
   "cell_type": "code",
   "execution_count": null,
   "id": "0332e761",
   "metadata": {},
   "outputs": [],
   "source": [
    "## Inserting data into \"Product\"\n",
    "\n",
    "insert_Product = \"\"\"INSERT INTO Product (PRO_ID , PRO_NAME, PRO_DESC, CAT_ID) VALUES (%s, %s, %s, %s)\"\"\" \n",
    "\n",
    "val = [(1,'GTA V', 'DFJDJFDJFDJFDJFJF', 2),\n",
    "       (2,'TSHIRT', 'DFDFJDFJDKFD', 5),\n",
    "       (3,'ROG LAPTOP', 'DFNTTNTNTERND', 4),\n",
    "       (4,'OATS', 'REURENTBTOTH', 3),\n",
    "       (5,'HARRY POTTER', 'NBEMCTHTJTH', 1)]\n",
    "   \n",
    "cursorObject.executemany(insert_Product, val)\n",
    "connection.commit()"
   ]
  },
  {
   "cell_type": "code",
   "execution_count": null,
   "id": "5949a76a",
   "metadata": {},
   "outputs": [],
   "source": [
    "## Inserting data into \"Product_Details\"\n",
    "\n",
    "insert_Product_Details = \"\"\"INSERT INTO Product_Details (PROD_ID , PRO_ID, SUPP_ID, PROD_PRICE) VALUES (%s, %s, %s, %s)\"\"\" \n",
    "\n",
    "val = [(1, 1, 2, 1500),\n",
    "       (2, 3, 5, 30000),\n",
    "       (3, 5, 1, 3000),\n",
    "       (4, 2, 3, 2500),\n",
    "       (5, 4, 1, 1000)]\n",
    "   \n",
    "cursorObject.executemany(insert_Product_Details, val)\n",
    "connection.commit()"
   ]
  },
  {
   "cell_type": "code",
   "execution_count": null,
   "id": "5af83520",
   "metadata": {},
   "outputs": [],
   "source": [
    "## Inserting Values into \"Orders\" table\n",
    "\n",
    "insert_Orders = \"INSERT INTO Orders (ORD_ID, ORD_AMOUNT, ORD_DATE, CUS_ID, PROD_ID) VALUES (%s, %s, %s, %s, %s)\"\n",
    "val = [(20,1500,\"2021-10-12\",3,5),\n",
    "       (25,30500,\"2021-09-16\",5,2),\n",
    "       (26,2000,\"2021-10-05\",1,1),\n",
    "       (30,3500,\"2021-08-16\",4,3),\n",
    "       (50,2000,\"2021-10-06\",2,1)]\n",
    "\n",
    "\n",
    "cursorObject.executemany(insert_Orders, val)\n",
    "connection.commit()"
   ]
  },
  {
   "cell_type": "code",
   "execution_count": null,
   "id": "437dbc54",
   "metadata": {},
   "outputs": [],
   "source": [
    "## Inserting Values into \"Rating\" table\n",
    "\n",
    "insert_Rating = \"INSERT INTO Rating (RAT_ID, CUS_ID, SUPP_ID, RAT_RATSTARS) VALUES (%s, %s, %s, %s)\"\n",
    "val = [(1, 2, 2, 4),\n",
    "       (2, 3, 4, 3),\n",
    "       (3, 5, 1, 5),\n",
    "       (4, 1, 3, 2),\n",
    "       (5, 4, 5, 4)]\n",
    "\n",
    "\n",
    "cursorObject.executemany(insert_Rating, val)\n",
    "connection.commit()"
   ]
  },
  {
   "cell_type": "code",
   "execution_count": null,
   "id": "696852a3",
   "metadata": {},
   "outputs": [],
   "source": []
  }
 ],
 "metadata": {
  "kernelspec": {
   "display_name": "Python 3 (ipykernel)",
   "language": "python",
   "name": "python3"
  },
  "language_info": {
   "codemirror_mode": {
    "name": "ipython",
    "version": 3
   },
   "file_extension": ".py",
   "mimetype": "text/x-python",
   "name": "python",
   "nbconvert_exporter": "python",
   "pygments_lexer": "ipython3",
   "version": "3.11.3"
  }
 },
 "nbformat": 4,
 "nbformat_minor": 5
}
